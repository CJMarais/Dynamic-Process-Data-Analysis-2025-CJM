{
 "cells": [
  {
   "cell_type": "code",
   "execution_count": null,
   "id": "3a90cf4a",
   "metadata": {},
   "outputs": [],
   "source": [
    "import numpy as np\n",
    "import pandas as pd\n",
    "import matplotlib.pyplot as plt"
   ]
  },
  {
   "cell_type": "markdown",
   "id": "3a1a7f80",
   "metadata": {},
   "source": [
    "## Data description\n"
   ]
  },
  {
   "cell_type": "markdown",
   "id": "09237e0b",
   "metadata": {},
   "source": [
    "\n",
    "https://sacac.org.za/wp-content/uploads/2023/07/plantwide-chemicals-bauer-2007.csv\n",
    "\n",
    "| Attribute            | Value                                         |\n",
    "|----------------------|-----------------------------------------------|\n",
    "| Type of measurements | 9 temperature, 1 level                        |\n",
    "| Industry             | Chemicals                                     |\n",
    "| Data length          | 2881                                          |\n",
    "| Sampling rate        | 20 seconds                                    |\n",
    "| Company              | Eastman chemical company                      |\n",
    "| Normalised           | No                                            |\n",
    "| Contributor          | Margret Bauer, University of Pretoria, South Africa |\n",
    "| Year of origin       | 2007                                          |\n",
    "\n",
    "First appearance in publication: Bauer, M., Cox, J. W., Caveness, M. H., Downs, J. J., & Thornhill, N. F. (2007). Nearest neighbors methods for root cause analysis of plantwide disturbances. Industrial & Engineering Chemistry Research, 46(18), 5977-5984.\n",
    "\n",
    "https://doi.org/10.1021/ie0614834\n",
    "\n",
    "Description: This is Case Study 1 from Bauer et al. which is a periodic, non-sinusoidal oscillation of around 20 minutes that affected measurements around a distillation column. "
   ]
  },
  {
   "cell_type": "markdown",
   "id": "3d7f6bba",
   "metadata": {},
   "source": [
    "## Load data and fit model"
   ]
  },
  {
   "cell_type": "markdown",
   "id": "7df612b7",
   "metadata": {},
   "source": [
    "For this exercise, we will look at a single times series from the data set and try to fit an appropriate model. We will consider the `TC` feature. Let's extract this feature into a single variable `ts` (time series) and plot it:"
   ]
  },
  {
   "cell_type": "code",
   "execution_count": null,
   "id": "08bb1472",
   "metadata": {},
   "outputs": [],
   "source": [
    "# Load data and select TC1 as time series to analyse\n",
    "df = pd.read_csv(\"https://sacac.org.za/wp-content/uploads/2023/07/plantwide-chemicals-bauer-2007.csv\", delimiter=';', decimal=',')\n",
    "ts = df['TC1'].iloc[:1000]\n",
    "ts.plot(title='TC1 Time Series', figsize=(12, 4))"
   ]
  },
  {
   "cell_type": "markdown",
   "id": "8cb2fd56",
   "metadata": {},
   "source": [
    "🔍 It will be insightful to zoom in and plot the first 250 observations in the time series, but plot markers to clearly show the where the observations occur. Do so in the cell below:"
   ]
  },
  {
   "cell_type": "code",
   "execution_count": null,
   "id": "7a44b3d5",
   "metadata": {},
   "outputs": [],
   "source": [
    "# <----- Add your code here"
   ]
  },
  {
   "cell_type": "markdown",
   "id": "cb411e3f",
   "metadata": {},
   "source": [
    "The first step in fitting any sort of ARIMA model is to plot the autocorrelation function (ACF) and partial autocorrelation function (PACF). \n",
    "\n",
    "🔍 Use  `statsmodels` to plot these functions for `ts`. Also assess the stationarity of the series by calculating the rolling mean and standard deviation. Based on the ACF and PACF, can you recommend a suitable ARIMA model?"
   ]
  },
  {
   "cell_type": "code",
   "execution_count": null,
   "id": "a37e5012",
   "metadata": {},
   "outputs": [],
   "source": [
    "from statsmodels.graphics.tsaplots import plot_acf, plot_pacf\n",
    "\n",
    "# <----- Add your code here"
   ]
  },
  {
   "cell_type": "markdown",
   "id": "86625393",
   "metadata": {},
   "source": [
    "The `statsmodels` library has various implementations of the ARIMA models available. `AutoReg` is a purely autoregresive model (no moving average or difference components). It is less flexible, but the fitting procedure is much faster. `ARIMA` provides all the flexibility of an ARIMA model - you can even add seasonal and exogeneous components (i.e., SARIMAX).\n",
    "\n",
    "Refer to the `statsmodels` API (or use an LLM like Claude) to help you fit and interpret the results. To help you get going, view the following:\n",
    "* The API reference for `AutoReg` can be found [here](https://www.statsmodels.org/dev/generated/statsmodels.tsa.ar_model.AutoReg.html#statsmodels.tsa.ar_model.AutoReg).\n",
    "* You first need to import the `AutoReg` model (code already provided), then create a model object, e.g., `model = AutoReg(ts, lags = 1)` will create an AR(1) model based on the data in `ts`.\n",
    "* You can fit the model by calling `fitted_model = model.fit()`. \n",
    "* The `fitted_model` object has numerous methods that are useful in assessing the model fit. The first you can check is `fitted_model.summary()`. For a detailed description, see the [AutoRegResults](https://www.statsmodels.org/stable/generated/statsmodels.tsa.ar_model.AutoRegResults.html#statsmodels.tsa.ar_model.AutoRegResults).\n",
    "* Both `AutoReg` and `ARIMA` provide `fitted_model` objects with the `plot_diagnostics` method as well as the `resid` property, that can be used to evaluate model accuracy.\n",
    "\n",
    "Notice that the approach is a bit different to the `sklearn` API, where one would simply update the existing class using, e.g., `model.fit(ts)`. There are several Python libraries which use this more familiar API: [Darts](https://unit8co.github.io/darts/) and [skforecast](https://skforecast.org/0.16.0/) are two examples. We will use some of these libraries later, but for now the `statsmodels` library is more suitable for our purposes. Both Darts and skforecast simply provide wrappers to the `statsmodels` ARIMA object in any case.\n",
    "\n",
    "🔍 Use `AutoReg` or `ARIMA` from `statsmodels` to fit a suitable model to the data. Use the ACF and/or PACF to inform your model selection, and use the fitted model object to plot the residuals."
   ]
  },
  {
   "cell_type": "code",
   "execution_count": null,
   "id": "e898abf4",
   "metadata": {},
   "outputs": [],
   "source": [
    "from statsmodels.tsa.ar_model import AutoReg\n",
    "from statsmodels.tsa.arima.model import ARIMA\n",
    "\n",
    "# <----- Add your code here"
   ]
  },
  {
   "cell_type": "markdown",
   "id": "00c9bee3",
   "metadata": {},
   "source": [
    "The `preds = fitted_model.get_prediction()` method will return in sample one-step ahead predictions. The `preds` object includes the predicted mean as well as confidence intervals. These are overly optimistic as real data is used to generate the predictions. Later, we will discuss how to generate multi-step ahead predictions recursively, which gives far better insight into the model accuracy.\n",
    "\n",
    "🔍 Create the `preds` object using the supplied code. The code shows how to plot the predicted mean."
   ]
  },
  {
   "cell_type": "code",
   "execution_count": null,
   "id": "f7cb3367",
   "metadata": {},
   "outputs": [],
   "source": [
    "# <----- Add your code here\n",
    "\n",
    "fig = plt.figure(figsize=(12,4))\n",
    "plt.plot(ts, label = 'Original data', alpha = 0.5)\n",
    "plt.plot(preds.predicted_mean, label = 'Predicted mean', alpha = 0.5)\n",
    "plt.legend()"
   ]
  }
 ],
 "metadata": {
  "kernelspec": {
   "display_name": "py3_12",
   "language": "python",
   "name": "python3"
  },
  "language_info": {
   "codemirror_mode": {
    "name": "ipython",
    "version": 3
   },
   "file_extension": ".py",
   "mimetype": "text/x-python",
   "name": "python",
   "nbconvert_exporter": "python",
   "pygments_lexer": "ipython3",
   "version": "3.12.10"
  }
 },
 "nbformat": 4,
 "nbformat_minor": 5
}
