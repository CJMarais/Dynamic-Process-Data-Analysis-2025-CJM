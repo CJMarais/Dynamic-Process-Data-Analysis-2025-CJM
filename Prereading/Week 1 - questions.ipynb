{
 "cells": [
  {
   "cell_type": "markdown",
   "id": "5be1286b",
   "metadata": {},
   "source": [
    "# Initial analysis of univariate time series data"
   ]
  },
  {
   "cell_type": "code",
   "execution_count": null,
   "id": "f83f3975",
   "metadata": {},
   "outputs": [],
   "source": [
    "# Import relevant libraries\n",
    "import pandas as pd\n",
    "import numpy as np\n",
    "import matplotlib.pyplot as plt"
   ]
  },
  {
   "cell_type": "markdown",
   "id": "7fb5d375",
   "metadata": {},
   "source": [
    "## Import and describe data\n",
    "\n",
    "For this exercise, we use the data described below, available from the [SACAC](https://sacac.org.za/resources/) website:\n",
    "\n",
    "https://sacac.org.za/wp-content/uploads/2023/07/sensor-F-oilgas-thornhill-2007.csv\n",
    "\n",
    "| Attribute            | Value                                   |\n",
    "|----------------------|-----------------------------------------|\n",
    "| Type of measurement  | Flow                                    |\n",
    "| Industry             | Oil & Gas                               |\n",
    "| Data length          | 1500                                    |\n",
    "| Sampling rate        | 20 second                               |\n",
    "| Company              | Anonymous                               |\n",
    "| Normalised           | Yes                                     |\n",
    "| Contributor          | Nina F. Thornhill, Imperial College London |\n",
    "| Year of origin       | 2007                                    |\n",
    "\n",
    "First appearance in publication: Thornhill, N.F., 2007, Locating the source of a disturbance, In Process Control Performance Assessment; From Theory to Implementation, Chapter 6, Eds: D.O. Uduehi, A. Ordys and M.A. Johnson, Springer-Verlag (London) Ltd, ISBN 1846286239.\n",
    "\n",
    "Description: It is known that the there was a faulty steam sensor in the steam flow loop FC1. It was an orifice plate flow meter but there was no weep-hole in the plate which had the effect that condensate collected on the upstream side until it reached a critical level, and the accumulated liquid would then periodically clear itself by siphoning through the orifice. The challenge for the analysis of this unit is to verify that the faulty steam flow loop is the root cause of the disturbance.    "
   ]
  },
  {
   "cell_type": "code",
   "execution_count": null,
   "id": "cba40c50",
   "metadata": {},
   "outputs": [],
   "source": [
    "# Read dataset into a dataframe, ensuring datetime index. Describe the main statistics\n",
    "df = pd.read_csv('https://sacac.org.za/wp-content/uploads/2023/07/sensor-F-oilgas-thornhill-2007.csv',\n",
    "                 delimiter=';',\n",
    "                 index_col='Time')\n",
    "\n",
    "\n",
    "# <---- Insert code here to show descriptive statistics of the dataset\n"
   ]
  },
  {
   "cell_type": "code",
   "execution_count": null,
   "id": "74476bab",
   "metadata": {},
   "outputs": [],
   "source": [
    "# Plot all time series in the dataset\n",
    "fig, axes = plt.subplots(len(df.columns), 1, figsize=(15, 3*len(df.columns)), sharex=True)\n",
    "for i, col in enumerate(df.columns):\n",
    "    df[col].plot(ax = axes[i], ylabel=col)\n",
    "plt.tight_layout()"
   ]
  },
  {
   "cell_type": "markdown",
   "id": "d5653e7a",
   "metadata": {},
   "source": [
    "Select `PV` as the time series variable to analysis"
   ]
  },
  {
   "cell_type": "code",
   "execution_count": null,
   "id": "9578180d",
   "metadata": {},
   "outputs": [],
   "source": [
    "ts = df['PV'].dropna()"
   ]
  },
  {
   "cell_type": "markdown",
   "id": "f777e7f7",
   "metadata": {},
   "source": [
    "## Visually assessing stationarity\n",
    "A stationary time series has a constant mean and variance. By plotting the rolling mean and standard deviation, we obtain a sense of the stationarity of the series. We can use the pandas method `df.rolling` to plot rolling statistics. \n",
    "\n",
    "Any method that can normally be applied to a pandas dataframe (e.g., `df.mean`) can be applied to rolling windows of the dataframe using the rolling method. \n",
    "\n",
    "See https://pandas.pydata.org/docs/dev/reference/api/pandas.DataFrame.rolling.html"
   ]
  },
  {
   "cell_type": "code",
   "execution_count": null,
   "id": "eab496f5",
   "metadata": {},
   "outputs": [],
   "source": [
    "# Set window size for rolling statistics\n",
    "window_size = 20\n",
    "\n",
    "# Plot rolling statistics\n",
    "plt.figure(figsize=(12, 4))\n",
    "plt.plot(ts, label='Original')\n",
    "plt.plot(ts.rolling(window_size).mean(), label='Rolling Mean', color='red')\n",
    "\n",
    "# The rolling standard deviation gives an indication of stationarity\n",
    "# <---- Insert code here to plot the rolling standard deviation\n",
    "\n",
    "plt.legend()\n",
    "plt.title('Rolling Mean & Standard Deviation')\n",
    "plt.show()"
   ]
  },
  {
   "cell_type": "markdown",
   "id": "f94355ad",
   "metadata": {},
   "source": [
    "🔍 The rolling mean is essentially a smoothing filter. What are the filter weights? Can they be adjusted? See the pandas API reference for help."
   ]
  },
  {
   "cell_type": "markdown",
   "id": "d80d543d",
   "metadata": {},
   "source": [
    "## Time series decomposition\n",
    "A time series can be decomposed into trend, seasonality, and random fluctuations. This is usually done using a smoothing filter. The `statsmodels` library performs time series decomposition using this approach.\n",
    "\n",
    "See the [statsmodels API](https://www.statsmodels.org/stable/generated/statsmodels.tsa.seasonal.seasonal_decompose.html#statsmodels.tsa.seasonal.seasonal_decompose). \n",
    "\n",
    "Experiment with different periods. You can use `df.head(N)` to show the first `N` entries in the dataframe, which may help you estimate the period."
   ]
  },
  {
   "cell_type": "code",
   "execution_count": null,
   "id": "b7aeb8ee",
   "metadata": {},
   "outputs": [],
   "source": [
    "from statsmodels.tsa.seasonal import seasonal_decompose\n",
    "\n",
    "# Perform decomposition\n",
    "period = 10\n",
    "decomposition = seasonal_decompose(ts, model='additive', period=period)\n",
    "\n",
    "# Create subplots\n",
    "fig, axes = plt.subplots(4, 1, figsize=(15, 12), sharex=True)\n",
    "\n",
    "# Original series\n",
    "decomposition.observed.plot(ax=axes[0])\n",
    "axes[0].set_ylabel('Original')\n",
    "\n",
    "# Trend component\n",
    "decomposition.trend.plot(ax=axes[1], color='red')\n",
    "axes[1].set_ylabel('Trend')\n",
    "\n",
    "# Seasonal component\n",
    "decomposition.seasonal.plot(ax=axes[2], color='green')\n",
    "axes[2].set_ylabel('Seasonal')\n",
    "\n",
    "# Residual/Noise component\n",
    "# <---- Insert code here to plot the residual component\n",
    "\n",
    "plt.tight_layout()"
   ]
  },
  {
   "cell_type": "markdown",
   "id": "823e9ea7",
   "metadata": {},
   "source": [
    "The sample autocorrelation (ACF) is a useful way to gauge whether trend and seasonality has been removed. Plot the ACF for the original series as well as the residual component. \n",
    "\n",
    "🔍 Can the ACF be used to inform the period?"
   ]
  },
  {
   "cell_type": "code",
   "execution_count": null,
   "id": "8e9c21d1",
   "metadata": {},
   "outputs": [],
   "source": [
    "from statsmodels.graphics.tsaplots import plot_acf\n",
    "\n",
    "# Perform decomposition\n",
    "period = 2\n",
    "decomposition = seasonal_decompose(ts, model='additive', period=period)\n",
    "\n",
    "\n",
    "# Plot ACF\n",
    "fig, ax = plt.subplots(2, 1, figsize=(12, 6))\n",
    "plot_acf(ts, lags=50, ax=ax[0], title='ACF of Original Series')\n",
    "plot_acf(decomposition.resid.dropna(), lags=50, ax=ax[1], title='ACF of Residuals')\n",
    "plt.show()"
   ]
  },
  {
   "cell_type": "markdown",
   "id": "68740556",
   "metadata": {},
   "source": [
    "## Differencing\n",
    "A key step in subsequent analysis will be time-series differencing. The pandas method `df.diff(N)` is useful here. Use `N = 1` for standard differencing and `N > 1` for \"seasonal\" differencing, as described in Chatfield."
   ]
  },
  {
   "cell_type": "code",
   "execution_count": null,
   "id": "c4811b19",
   "metadata": {},
   "outputs": [],
   "source": [
    "ts_diff = ts.diff().dropna()\n",
    "\n",
    "fig, axes = plt.subplots(2, 1, figsize=(12, 6))\n",
    "axes[0].plot(ts_diff, label='Differenced Series')\n",
    "axes[0].set_ylabel('Differenced Series')\n",
    "# <---- Add code to plot the ACF of the differenced series\n",
    "\n",
    "plt.tight_layout()\n"
   ]
  },
  {
   "cell_type": "markdown",
   "id": "e55ebf42",
   "metadata": {},
   "source": [
    "🔍 You can perform seasonal differencing using:\n",
    "\n",
    "`ts_seasonal_diff = ts.diff(periods=period).dropna()`\n",
    "\n",
    "Use the ACF plot to determine whether seasonal differencing is appropriate.\n",
    "\n",
    "*Hint: look for spurious autocorrelations that may result from the seasonal differencing*"
   ]
  },
  {
   "cell_type": "code",
   "execution_count": null,
   "id": "06732324",
   "metadata": {},
   "outputs": [],
   "source": [
    "# <----- Investigate seasonal differencing\n"
   ]
  },
  {
   "cell_type": "markdown",
   "id": "00e3c713",
   "metadata": {},
   "source": [
    "🔍 We may try to find the trend $y_t$ by subtracting the differenced series $w_t$ from the original time series $x_t$, i.e.,\n",
    "\n",
    "$ w_t = x_t - x_{t-1} $\n",
    "\n",
    "$ y_t = x_t - w_t $\n",
    "\n",
    "Show that $y_t$ does not give the trend, but simply the lagged variable $x_{t-1}$"
   ]
  }
 ],
 "metadata": {
  "kernelspec": {
   "display_name": "py3_11",
   "language": "python",
   "name": "python3"
  },
  "language_info": {
   "codemirror_mode": {
    "name": "ipython",
    "version": 3
   },
   "file_extension": ".py",
   "mimetype": "text/x-python",
   "name": "python",
   "nbconvert_exporter": "python",
   "pygments_lexer": "ipython3",
   "version": "3.11.7"
  }
 },
 "nbformat": 4,
 "nbformat_minor": 5
}
