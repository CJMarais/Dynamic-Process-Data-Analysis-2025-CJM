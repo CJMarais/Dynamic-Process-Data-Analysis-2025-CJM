{
 "cells": [
  {
   "cell_type": "markdown",
   "id": "8b8ec68f",
   "metadata": {},
   "source": [
    "# Examining cross-correlation "
   ]
  },
  {
   "cell_type": "code",
   "execution_count": null,
   "id": "c32cb1b1",
   "metadata": {},
   "outputs": [],
   "source": [
    "import numpy as np\n",
    "import pandas as pd\n",
    "import matplotlib.pyplot as plt"
   ]
  },
  {
   "cell_type": "markdown",
   "id": "e24b7c4f",
   "metadata": {},
   "source": [
    "In this exercise, we will investigate cross-correlation between three stochastic processes. Our first two processes will be completely independent random walks:\n",
    "\n",
    "$ x_t = x_{t-1} + ε_{x,t} $ \n",
    "\n",
    "$ y_t = y_{t-1} + ε_{y,t} $\n",
    "\n",
    "Where $ ε_{\\cdot,t} \\sim \\mathcal{N}(0,1)$. The two processes $x_t$ and $y_t$ are independent and should not be correlated in any way.\n",
    "\n",
    "We'll also introduce a third process, which is dependent on $ x_t $ and $ y_t $:\n",
    "\n",
    "$ z_t = z_{t-1} + 2x_{t-5} + y_{t-10} + ε_{z,t} $"
   ]
  },
  {
   "cell_type": "code",
   "execution_count": null,
   "id": "78494936",
   "metadata": {},
   "outputs": [],
   "source": [
    "# Set random seed for reproducibility\n",
    "np.random.seed(2)\n",
    "\n",
    "# Generate random walk processes\n",
    "N = 500\n",
    "\n",
    "# Create the three independent random walks in an Nx3 numpy array\n",
    "rw = np.zeros((N,3))\n",
    "for t in range(N-1):\n",
    "    rw[t+1,:] = rw[t,:] + np.random.normal(size=3)\n",
    "\n",
    "# Add correlation to the third process\n",
    "rw[:-10,2] = rw[:-10,2] + 2*rw[5:-5,0]  + 1*rw[10:,1]\n",
    "rw = rw[:-10,:]  # Align lengths\n",
    "\n",
    "# Create a dataframe from the array\n",
    "df = pd.DataFrame({\n",
    "    'x': rw[:,0],\n",
    "    'y': rw[:,1],\n",
    "    'z': rw[:,2]\n",
    "})\n",
    "\n",
    "# Plot the random walks\n",
    "df.plot(alpha=0.8, figsize=(12, 4))\n"
   ]
  },
  {
   "cell_type": "markdown",
   "id": "ffe531d3",
   "metadata": {},
   "source": [
    "🔎 Plot the cross-correlation of the three random processes, using `plot_ccf` from `statsmodels`"
   ]
  },
  {
   "cell_type": "code",
   "execution_count": null,
   "id": "471e388b",
   "metadata": {},
   "outputs": [],
   "source": [
    "from statsmodels.graphics.tsaplots import plot_ccf\n",
    "max_lags = 50\n",
    "fig, ax = plt.subplots(3, 1, figsize=(12, 9))\n",
    "\n",
    "plot_ccf(df['x'], df['y'], lags=max_lags, ax=ax[0])\n",
    "ax[0].set_title('Cross-Correlation $x$ and $y$')\n",
    "\n",
    "# <------ Add your code here, to plot the cross-correlations of x and z, and y and z\n"
   ]
  },
  {
   "cell_type": "markdown",
   "id": "bd65d664",
   "metadata": {},
   "source": [
    "🔎 The CCF shows significant cross-correlation throughout. Let's try pre-whitening the stochastis processes, then calculate the CCF again. We can pre-whiten the process by fitting a simple AR(1) model (using `AutoReg`) to $ x $, the using the same model to calculate the residuals on each process. \n",
    "\n",
    "What do you notice about the filtered CCF?"
   ]
  },
  {
   "cell_type": "code",
   "execution_count": null,
   "id": "e8167be9",
   "metadata": {},
   "outputs": [],
   "source": [
    "# Pre-whitening using AR(1) model\n",
    "from statsmodels.tsa.ar_model import AutoReg\n",
    "\n",
    "# Fit AR(1) model to x and pre-whiten\n",
    "AR1 = AutoReg(df['x'], lags=1).fit()\n",
    "x_filtered = df['x'][1:].values - AR1.params['x.L1'] * df['x'][:-1].values - AR1.params['const'] \n",
    "# You could use \"x_filtered = AR1.resid\", but this way makes the implementation for pre-whitening y and z clearer\n",
    "\n",
    "# <----- Apply the same AR(1) filter to y and z using the fitted parameters\n",
    "\n",
    "# <----- Create DataFrame with filtered series\n",
    "\n",
    "# <------ Plot original vs filtered series\n",
    "\n",
    "# <------- Plot cross-correlations of original and filtered series\n",
    "    "
   ]
  }
 ],
 "metadata": {
  "kernelspec": {
   "display_name": "py3_12",
   "language": "python",
   "name": "python3"
  },
  "language_info": {
   "codemirror_mode": {
    "name": "ipython",
    "version": 3
   },
   "file_extension": ".py",
   "mimetype": "text/x-python",
   "name": "python",
   "nbconvert_exporter": "python",
   "pygments_lexer": "ipython3",
   "version": "3.12.10"
  }
 },
 "nbformat": 4,
 "nbformat_minor": 5
}
