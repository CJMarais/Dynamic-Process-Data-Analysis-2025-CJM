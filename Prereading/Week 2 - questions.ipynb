{
 "cells": [
  {
   "cell_type": "markdown",
   "id": "f95bbf18",
   "metadata": {},
   "source": [
    "# Experimenting with ARMA models"
   ]
  },
  {
   "cell_type": "code",
   "execution_count": null,
   "id": "f5e27f63",
   "metadata": {},
   "outputs": [],
   "source": [
    "# Import relevant libraries\n",
    "import numpy as np\n",
    "import matplotlib.pyplot as plt\n",
    "import pandas as pd\n",
    "from statsmodels.graphics.tsaplots import plot_acf"
   ]
  },
  {
   "cell_type": "markdown",
   "id": "84c6af54",
   "metadata": {},
   "source": [
    "🔍Use an AR2 model with $ \\phi_1 = 0.99 $ and $\\phi_2 = -0.05$ to generate a time-series dataset with 500 samples. The innovation term is normally distributed with zero mean and unit variance. Plot the time series and the autocorrelation function (ACF). The latter is easily done using the `plot_acf` method in the `statsmodels` library"
   ]
  },
  {
   "cell_type": "code",
   "execution_count": null,
   "id": "44e10070",
   "metadata": {},
   "outputs": [],
   "source": [
    "# Set random seed for reproducibility\n",
    "np.random.seed(42)\n",
    "\n",
    "# <----- Insert code here\n",
    "\n",
    "\n",
    "# AR(2) Process\n",
    "fig, ax = plt.subplots(2,1, figsize = (12, 8))\n",
    "ax[0].plot(AR2, alpha=0.8, color='blue', label='AR(2)')\n",
    "ax[0].legend()\n",
    "\n",
    "# ACF Plot\n",
    "plot_acf(AR2, ax=ax[1], lags=40)\n",
    "plt.show()"
   ]
  },
  {
   "cell_type": "markdown",
   "id": "e1fbe486",
   "metadata": {},
   "source": [
    "🔍Use an MA10 model with $ \\theta $ as given below to generate a time-series dataset with 500 samples and the same innovation term as used for the AR(2) model. Plot the time series and the autocorrelation function (ACF)."
   ]
  },
  {
   "cell_type": "code",
   "execution_count": null,
   "id": "65c27a95",
   "metadata": {},
   "outputs": [],
   "source": [
    "# MA(10) Process: Y_t = ε_t + θ₁*ε_{t-1} + θ₂*ε_{t-2} + θ₃*ε_{t-3}\n",
    "θ = np.linspace(1,0,10)\n",
    "θ = θ / θ.sum()\n",
    "\n"
   ]
  },
  {
   "cell_type": "markdown",
   "id": "b8f897f2",
   "metadata": {},
   "source": [
    "⭐ The AR(2) process can be represented as an MA process with infinitely many terms. In other words, the AR(2) process\n",
    "\n",
    "$ x_t = ϕ_1 x_{t-1} + ϕ_2 x_{t-2} + ε_t $   \n",
    "\n",
    "is equivalently represented by\n",
    "\n",
    "$ x_t = ψ_0 ε_t + ψ_1 ε_{t-1} + ψ_2 ε_{t-2} ... $\n",
    "\n",
    "The MA coefficients $ ψ_j $ are related to the AR coefficients $ ϕ_1, ϕ_2 $ by:\n",
    "\n",
    "$ \\psi_0 = 1 $\n",
    "\n",
    "$ \\psi_1 = \\phi_1 $\n",
    "\n",
    "$ \\psi_2 = \\phi_1 \\psi_1 $\n",
    "\n",
    "$ \\psi_j = \\phi_1 \\psi_{j-1} + \\phi_2 \\psi_{j-2} $ for all $ j >= 3 $\n",
    "\n",
    "* Calculate the first 50 MA coefficients that will result in a time series equivalent to the AR(2) process above. \n",
    "* Plot the MA coefficients. \n",
    "* Compare the time series generated using the MA process to that generated using the AR(2) process to verify they are the same. \n",
    "\n",
    "*Hint: Set the first 50 terms of the MA process equal to the first 50 terms of the AR(2) process. Also make sure to use the exact same innovations $ ε_t $ when generating the two time series*"
   ]
  }
 ],
 "metadata": {
  "kernelspec": {
   "display_name": "py3_11",
   "language": "python",
   "name": "python3"
  },
  "language_info": {
   "codemirror_mode": {
    "name": "ipython",
    "version": 3
   },
   "file_extension": ".py",
   "mimetype": "text/x-python",
   "name": "python",
   "nbconvert_exporter": "python",
   "pygments_lexer": "ipython3",
   "version": "3.11.7"
  }
 },
 "nbformat": 4,
 "nbformat_minor": 5
}
